{
 "cells": [
  {
   "cell_type": "code",
   "execution_count": 65,
   "id": "56cd93f5-9823-4775-8ce5-bdbfec06a925",
   "metadata": {
    "tags": []
   },
   "outputs": [],
   "source": [
    "import torch\n",
    "from transformers import Speech2TextProcessor, Speech2TextForConditionalGeneration\n",
    "from datasets import load_dataset\n",
    "import soundfile as sf"
   ]
  },
  {
   "cell_type": "code",
   "execution_count": 66,
   "id": "2cce8b10-7aac-436f-9ce3-b4a39988e99c",
   "metadata": {
    "tags": []
   },
   "outputs": [],
   "source": [
    "model = Speech2TextForConditionalGeneration.from_pretrained(\"facebook/s2t-small-librispeech-asr\")\n",
    "processor = Speech2TextProcessor.from_pretrained(\"facebook/s2t-small-librispeech-asr\")"
   ]
  },
  {
   "cell_type": "code",
   "execution_count": 223,
   "id": "f297a221-4939-4826-b0a3-e4ddb992ee7e",
   "metadata": {
    "tags": []
   },
   "outputs": [],
   "source": [
    "from pydub import AudioSegment\n",
    "track = AudioSegment.from_file(\"samples/lefan-sample.m4a\",  format= 'm4a')\n",
    "\n",
    "# Set the target parameters\n",
    "sample_rate = 16000\n",
    "channels = 1\n",
    "sample_width = 2\n",
    "\n",
    "track = track.set_frame_rate(sample_rate).set_channels(channels).set_sample_width(sample_width)\n",
    "file_handle = track.export(\"test.wav\", format='wav')"
   ]
  },
  {
   "cell_type": "code",
   "execution_count": 254,
   "id": "cbe0d30c-53aa-4867-ba13-fd455c1b210f",
   "metadata": {
    "tags": []
   },
   "outputs": [],
   "source": [
    "speech, _ = sf.read(\"samples/audio4.wav\")"
   ]
  },
  {
   "cell_type": "code",
   "execution_count": 255,
   "id": "ddc98853-6aa5-4323-878e-9c0a015b8d60",
   "metadata": {
    "tags": []
   },
   "outputs": [
    {
     "data": {
      "text/plain": [
       "array([-0.00024414, -0.00048828, -0.00048828, ...,  0.00061035,\n",
       "        0.00012207,  0.00036621])"
      ]
     },
     "execution_count": 255,
     "metadata": {},
     "output_type": "execute_result"
    }
   ],
   "source": [
    "speech"
   ]
  },
  {
   "cell_type": "code",
   "execution_count": 256,
   "id": "ba7e8a15-0729-46e5-b7fa-48c9c364c027",
   "metadata": {
    "tags": []
   },
   "outputs": [],
   "source": [
    "inputs = processor(speech, sampling_rate=16000, return_tensors=\"pt\")\n",
    "# generated_ids = model.generate(input_ids=inputs[\"input_features\"], attention_mask=inputs[\"attention_mask\"])\n",
    "generated_ids = model.generate(input_features=inputs[\"input_features\"], attention_mask=inputs[\"attention_mask\"])"
   ]
  },
  {
   "cell_type": "code",
   "execution_count": 257,
   "id": "c77486d0-23e0-46f6-9a09-e54ed937d13b",
   "metadata": {
    "tags": []
   },
   "outputs": [],
   "source": [
    "transcription = processor.batch_decode(generated_ids)"
   ]
  },
  {
   "cell_type": "code",
   "execution_count": 258,
   "id": "4c096fbb-a9b1-4f81-ad6c-fdefd396d9cf",
   "metadata": {
    "tags": []
   },
   "outputs": [
    {
     "data": {
      "text/plain": [
       "['</s> microscopically there was inthysima fibrosis and vascular congestion</s>']"
      ]
     },
     "execution_count": 258,
     "metadata": {},
     "output_type": "execute_result"
    }
   ],
   "source": [
    "transcription"
   ]
  }
 ],
 "metadata": {
  "kernelspec": {
   "display_name": "Python 3 (ipykernel)",
   "language": "python",
   "name": "python3"
  },
  "language_info": {
   "codemirror_mode": {
    "name": "ipython",
    "version": 3
   },
   "file_extension": ".py",
   "mimetype": "text/x-python",
   "name": "python",
   "nbconvert_exporter": "python",
   "pygments_lexer": "ipython3",
   "version": "3.9.16"
  }
 },
 "nbformat": 4,
 "nbformat_minor": 5
}
