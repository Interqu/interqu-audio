{
 "cells": [
  {
   "cell_type": "code",
   "execution_count": 1,
   "id": "56cd93f5-9823-4775-8ce5-bdbfec06a925",
   "metadata": {
    "tags": []
   },
   "outputs": [
    {
     "name": "stderr",
     "output_type": "stream",
     "text": [
      "/private/l2hu/interqu/venv/lib/python3.8/site-packages/tqdm/auto.py:21: TqdmWarning: IProgress not found. Please update jupyter and ipywidgets. See https://ipywidgets.readthedocs.io/en/stable/user_install.html\n",
      "  from .autonotebook import tqdm as notebook_tqdm\n",
      "The cache for model files in Transformers v4.22.0 has been updated. Migrating your old cache. This is a one-time only operation. You can interrupt this and resume the migration later on by calling `transformers.utils.move_cache()`.\n",
      "0it [00:00, ?it/s]\n"
     ]
    }
   ],
   "source": [
    "import torch\n",
    "from transformers import Speech2TextProcessor, Speech2TextForConditionalGeneration\n",
    "from datasets import load_dataset\n",
    "import soundfile as sf"
   ]
  },
  {
   "cell_type": "code",
   "execution_count": 2,
   "id": "2cce8b10-7aac-436f-9ce3-b4a39988e99c",
   "metadata": {
    "tags": []
   },
   "outputs": [
    {
     "name": "stderr",
     "output_type": "stream",
     "text": [
      "Downloading (…)olve/main/vocab.json: 100%|██████████████████████████████████████████| 235k/235k [00:00<00:00, 3.94MB/s]\n",
      "Downloading (…)tencepiece.bpe.model: 100%|██████████████████████████████████████████| 417k/417k [00:00<00:00, 24.3MB/s]\n",
      "Downloading (…)cial_tokens_map.json: 100%|██████████████████████████████████████████| 85.0/85.0 [00:00<00:00, 64.4kB/s]\n",
      "Downloading (…)okenizer_config.json: 100%|█████████████████████████████████████████████| 456/456 [00:00<00:00, 341kB/s]\n"
     ]
    }
   ],
   "source": [
    "model = Speech2TextForConditionalGeneration.from_pretrained(\"facebook/s2t-small-librispeech-asr\")\n",
    "processor = Speech2TextProcessor.from_pretrained(\"facebook/s2t-small-librispeech-asr\")"
   ]
  },
  {
   "cell_type": "code",
   "execution_count": 3,
   "id": "15f6df21-5199-4f50-8032-bd6ff8a9e2f6",
   "metadata": {
    "tags": []
   },
   "outputs": [
    {
     "name": "stderr",
     "output_type": "stream",
     "text": [
      "Found cached dataset librispeech_asr_dummy (/home/l2hu/.cache/huggingface/datasets/patrickvonplaten___librispeech_asr_dummy/clean/2.1.0/f2c70a4d03ab4410954901bde48c54b85ca1b7f9bf7d616e7e2a72b5ee6ddbfc)\n",
      "Loading cached processed dataset at /home/l2hu/.cache/huggingface/datasets/patrickvonplaten___librispeech_asr_dummy/clean/2.1.0/f2c70a4d03ab4410954901bde48c54b85ca1b7f9bf7d616e7e2a72b5ee6ddbfc/cache-454d2c130c1bcb11.arrow\n"
     ]
    }
   ],
   "source": [
    "def map_to_array(batch):\n",
    "    speech, _ = sf.read(batch[\"file\"])\n",
    "    batch[\"speech\"] = speech\n",
    "    return batch\n",
    "\n",
    "ds = load_dataset(\"patrickvonplaten/librispeech_asr_dummy\", \"clean\", split=\"validation\")\n",
    "ds = ds.map(map_to_array)"
   ]
  },
  {
   "cell_type": "code",
   "execution_count": 10,
   "id": "ba7e8a15-0729-46e5-b7fa-48c9c364c027",
   "metadata": {
    "tags": []
   },
   "outputs": [],
   "source": [
    "inputs = processor(ds[\"speech\"][12], sampling_rate=16_000, return_tensors=\"pt\")\n",
    "# generated_ids = model.generate(input_ids=inputs[\"input_features\"], attention_mask=inputs[\"attention_mask\"])\n",
    "generated_ids = model.generate(input_features=inputs[\"input_features\"], attention_mask=inputs[\"attention_mask\"])"
   ]
  },
  {
   "cell_type": "code",
   "execution_count": 11,
   "id": "c77486d0-23e0-46f6-9a09-e54ed937d13b",
   "metadata": {
    "tags": []
   },
   "outputs": [],
   "source": [
    "transcription = processor.batch_decode(generated_ids)"
   ]
  },
  {
   "cell_type": "code",
   "execution_count": 12,
   "id": "4c096fbb-a9b1-4f81-ad6c-fdefd396d9cf",
   "metadata": {
    "tags": []
   },
   "outputs": [
    {
     "data": {
      "text/plain": [
       "['</s> only unfortunately his own work never does get good</s>']"
      ]
     },
     "execution_count": 12,
     "metadata": {},
     "output_type": "execute_result"
    }
   ],
   "source": [
    "transcription"
   ]
  },
  {
   "cell_type": "code",
   "execution_count": null,
   "id": "e4a2b774-c6b1-479f-a8d9-82e7cfe32094",
   "metadata": {
    "tags": []
   },
   "outputs": [],
   "source": [
    "ds[\"speech\"]"
   ]
  },
  {
   "cell_type": "code",
   "execution_count": null,
   "id": "691aa2a2-49ff-4671-a6ce-7d83ad945b6c",
   "metadata": {},
   "outputs": [],
   "source": []
  }
 ],
 "metadata": {
  "kernelspec": {
   "display_name": "Python 3 (ipykernel)",
   "language": "python",
   "name": "python3"
  },
  "language_info": {
   "codemirror_mode": {
    "name": "ipython",
    "version": 3
   },
   "file_extension": ".py",
   "mimetype": "text/x-python",
   "name": "python",
   "nbconvert_exporter": "python",
   "pygments_lexer": "ipython3",
   "version": "3.8.10"
  }
 },
 "nbformat": 4,
 "nbformat_minor": 5
}
