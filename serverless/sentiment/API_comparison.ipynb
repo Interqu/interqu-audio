{
 "cells": [
  {
   "cell_type": "markdown",
   "id": "f80a6a3f-36df-476f-b120-2ee106eb9239",
   "metadata": {},
   "source": [
    "# Assembly AI\n",
    "Speech to text translation with various capabilities including sentiment analysis:\n",
    "```\n",
    "Flags:\n",
    "  -s, --auto_chapters                      A \"summary over time\" for the audio file transcribed.\n",
    "  -a, --auto_highlights                    Automatically detect important phrases and words in the text.\n",
    "  -z, --boost_param string                 Control how much weight should be applied to your boosted keywords/phrases. This value can be either low, default, or high.\n",
    "  -c, --content_moderation                 Detect if sensitive content is spoken in the file.\n",
    "      --custom_spelling string             Specify how words are spelled or formatted in the transcript text.\n",
    "  -D, --disfluencies                       Include Filler Words in your transcripts\n",
    "  -d, --dual_channel                       Enable dual channel\n",
    "  -e, --entity_detection                   Identify a wide range of entities that are spoken in the audio file.\n",
    "  -f, --format_text                        Enable text formatting (default true)\n",
    "  -h, --help                               help for transcribe\n",
    "  -j, --json                               If true, the CLI will output the JSON.\n",
    "  -g, --language_code string               Specify the language of the speech in your audio file.\n",
    "  -n, --language_detection                 Identify the dominant language that’s spoken in an audio file.\n",
    "  -p, --poll                               The CLI will poll the transcription until it's complete. (default true)\n",
    "  -u, --punctuate                          Enable automatic punctuation. (default true)\n",
    "  -r, --redact_pii                         Remove personally identifiable information from the transcription.\n",
    "  -i, --redact_pii_policies string         The list of PII policies to redact, comma-separated without space in-between. Required if the redact_pii flag is true. (default \"drug,number_sequence,person_name\")\n",
    "  -x, --sentiment_analysis                 Detect the sentiment of each sentence of speech spoken in the file.\n",
    "  -l, --speaker_labels                     Automatically detect the number of speakers in your audio file, and each word in the transcription text can be associated with its speaker. (default true)\n",
    "      --srt                                Generate an SRT file for the audio file transcribed.\n",
    "  -m, --summarization                      Generate a single abstractive summary of the entire audio.\n",
    "  -q, --summary_model string               The model used to generate the summary. (default \"informative\")\n",
    "  -y, --summary_type string                Type of summary generated. (default \"bullets\")\n",
    "  -t, --topic_detection                    Label the topics that are spoken in the file.\n",
    "  -b, --webhook_auth_header_name string    Containing the header's name which will be inserted into the webhook request\n",
    "  -o, --webhook_auth_header_value string   The value of the header that will be inserted into the webhook request.\n",
    "  -w, --webhook_url string                 Receive a webhook once your transcript is complete.\n",
    "  -k, --word_boost string                  The value of this flag MUST be used surrounded by quotes. Any term included will \n",
    "```\n",
    "## Pricing ($0.000583 / second)\n",
    "- 0.3498 for 10 mins of audio analysis\n",
    "\n",
    "## Other details\n",
    "- Processing takes about 20% of audio length"
   ]
  },
  {
   "cell_type": "code",
   "execution_count": null,
   "id": "f527d922-2184-44a0-b26e-41dbc6e5984b",
   "metadata": {},
   "outputs": [],
   "source": []
  }
 ],
 "metadata": {
  "kernelspec": {
   "display_name": "Python 3 (ipykernel)",
   "language": "python",
   "name": "python3"
  },
  "language_info": {
   "codemirror_mode": {
    "name": "ipython",
    "version": 3
   },
   "file_extension": ".py",
   "mimetype": "text/x-python",
   "name": "python",
   "nbconvert_exporter": "python",
   "pygments_lexer": "ipython3",
   "version": "3.9.16"
  }
 },
 "nbformat": 4,
 "nbformat_minor": 5
}
